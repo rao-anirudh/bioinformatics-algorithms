{
 "cells": [
  {
   "cell_type": "markdown",
   "id": "2abaa7bb",
   "metadata": {},
   "source": [
    "<h1 style=\"text-align:center;\">1. WHERE IN THE GENOME DOES DNA REPLICATION BEGIN?</h1>"
   ]
  },
  {
   "cell_type": "markdown",
   "id": "d771b9cf",
   "metadata": {},
   "source": [
    "<ul>\n",
    "    <li>Genome replication is one of the most important tasks carried out in the cell.</li> \n",
    "    <li>At first glance, a computer scientist might not imagine that replication has any computational relevance. To mimic the process algorithmically, we only need to take a string representing the genome and return a copy of it!</li>\n",
    "    <li>Replication begins in a genomic region called the replication origin (denoted <b><i>oriC</i></b>). Locating <i>oriC</i> presents an important task not only for understanding how cells replicate but also for various biomedical problems.</li>\n",
    "    <li>Existing experimental approaches to <i>oriC</i> prediction are rather time consuming. Thus, we would like to design a computational approach to find <i>oriC</i> so that biologists are free to spend their time and money on other tasks.</li>\n",
    "</ul>"
   ]
  },
  {
   "cell_type": "markdown",
   "id": "e6098522",
   "metadata": {},
   "source": [
    "<h2>Hidden Messages in the Replication Origin</h2>\n",
    "\n",
    "<ul>\n",
    "    <li>Our plan is to begin with a bacterium in which <i>oriC</i> is known, and then determine what makes this genomic region special in order to design a computational approach for finding <i>oriC</i> in other bacteria.</li>\n",
    "    <li>Our example is <i>Vibrio cholerae</i>, the bacterium that causes cholera; here is the nucleotide sequence appearing in its <i>oriC</i>:\n",
    "<p style=\"font-family:courier;\">\n",
    "atcaatgatcaacgtaagcttctaagcatgatcaaggtgctcacacagtttatccacaac\n",
    "ctgagtggatgacatcaagataggtcgttgtatctccttcctctcgtactctcatgacca\n",
    "cggaaagatgatcaagagaggatgatttcttggccatatcgcaatgaatacttgtgactt\n",
    "gtgcttccaattgacatcttcagcgccatattgcgctggccaaggtgacggagcgggatt\n",
    "acgaaagcatgatcatggctgttgttctgtttatcttgttttgactgagacttgttagga\n",
    "tagacggtttttcatcactgactagccaaagccttactctgcctgacatcgaccgtaaat\n",
    "tgataatgaatttacatgcttccgcgacgatttacctcttgatcatcgatccgattgaag\n",
    "atcttcaattgttaattctcttgcctcgactcatagccatgatgagctcttgatcatgtt\n",
    "tccttaaccctctattttttacggaagaatgatcaagctgctgctcttgatcatcgtttc</p><br>\n",
    "    <li>There must be some “hidden message” in the <i>oriC</i> region ordering the cell to begin replication here. The initiation of replication is mediated by <b><i>DnaA</i></b>, a protein that binds to a short segment within the <i>oriC</i> known as a <b><i>DnaA</i> box</b>.</li>\n",
    "    <li>The question is how to find this \"hidden message\" without knowing what it looks like in advance.</li>"
   ]
  },
  {
   "cell_type": "markdown",
   "id": "610160f9",
   "metadata": {},
   "source": [
    "<h3>Counting Words Problem</h3>\n",
    "<ul>\n",
    "    <li>Let us see if we can find any surprisingly frequent “words” within the <i>oriC</i> of <i>Vibrio cholerae</i>.</li>\n",
    "    <li>We use the term <b><i>k</i>-mer</b> to refer to a string of length <i>k</i> and define COUNT(<i>Text</i>, <i>Pattern</i>) as the number of times that a <i>k</i>-mer <i>Pattern</i> appears as a substring of <i>Text</i>.</li>\n",
    "    <li>For example, COUNT(ACA<u>ACTAT</u>GCAT<u>ACTAT</u>CGGGA<u>ACTAT</u>CCT, ACTAT) = 3 for the 5-mer ACTAT.</li>\n",
    "    <li>To compute COUNT(<i>Text</i>, <i>Pattern</i>), our plan is to “slide a window” down <i>Text</i>, checking whether each <i>k</i>-mer substring of <i>Text</i> matches <i>Pattern</i>.</li>\n",
    "    <li>We will therefore refer to the <i>k</i>-mer starting at position <i>i</i> of <i>Text</i> as <i>Text</i>(<i>i</i>, <i>k</i>). We will follow <b>0-based indexing</b>.</li>\n",
    "    <li>For example, if <i>Text</i> = GACCATACTG, then <i>Text</i>(4, 3) = ATA.</li>\n",
    "    <li>Note that the last <i>k</i>-mer of <i>Text</i> begins at position |<i>Text</i>|-<i>k</i>, where |<i>Text</i>| denotes the length of <i>Text</i>.</li> \n",
    "</ul>"
   ]
  },
  {
   "cell_type": "code",
   "execution_count": 1,
   "id": "07b236ac",
   "metadata": {},
   "outputs": [],
   "source": [
    "def pattern_count(text, pattern):\n",
    "    count = 0\n",
    "    for i in range(0,len(text)-len(pattern)+1):\n",
    "        if text[i:i+len(pattern)] == pattern:\n",
    "            count += 1\n",
    "    return count"
   ]
  },
  {
   "cell_type": "code",
   "execution_count": 2,
   "id": "de7082b0",
   "metadata": {},
   "outputs": [
    {
     "data": {
      "text/plain": [
       "3"
      ]
     },
     "execution_count": 2,
     "metadata": {},
     "output_type": "execute_result"
    }
   ],
   "source": [
    "pattern_count(\"ACAACTATGCATACTATCGGGAACTATCCT\",\"ACTAT\")"
   ]
  },
  {
   "cell_type": "markdown",
   "id": "3c797207",
   "metadata": {},
   "source": [
    "<h3>Frequent Words Problem</h3>\n",
    "<ul>\n",
    "    <li>We say that <i>Pattern</i> is a <b>most frequent <i>k</i>-mer</b> in <i>Text</i> if it maximizes COUNT(<i>Text</i>, <i>Pattern</i>) among all <i>k</i>-mers.</li>\n",
    "    <li>A straightforward algorithm for finding the most frequent <i>k</i>-mers in a string <i>Text</i> checks all <i>k</i>-mers appearing in this string (there are |<i>Text</i>|-<i>k</i>+1 such <i>k</i>-mers) and then computes how many times each <i>k</i>-mer appears in <i>Text</i>.</li>\n",
    "    <li>We will need to generate an array <i>COUNT</i>, where <i>COUNT</i>(<i>i</i>) stores COUNT(<i>Text</i>, <i>Pattern</i>) for <i>Pattern</i> = <i>Text</i>(<i>i</i>, <i>k</i>).</li>\n",
    "</ul>"
   ]
  },
  {
   "cell_type": "code",
   "execution_count": 3,
   "id": "3b099c86",
   "metadata": {},
   "outputs": [],
   "source": [
    "def frequent_words(text, k):\n",
    "    frequent_patterns = []\n",
    "    count = []\n",
    "    \n",
    "    for i in range(0,len(text)-k+1):\n",
    "        pattern = text[i:i+k]\n",
    "        count.append(pattern_count(text,pattern))\n",
    "        \n",
    "    max_count = max(count)\n",
    "    print(f\"The most frequent {k}-mer(s) occur(s) {max_count} times\")\n",
    "    \n",
    "    for i in range(0,len(text)-k+1):\n",
    "        if count[i] == max_count:\n",
    "            frequent_patterns.append(text[i:i+k])\n",
    "            \n",
    "    return set(frequent_patterns)"
   ]
  },
  {
   "cell_type": "code",
   "execution_count": 4,
   "id": "779dfe73",
   "metadata": {},
   "outputs": [
    {
     "name": "stdout",
     "output_type": "stream",
     "text": [
      "The most frequent 5-mer(s) occur(s) 3 times\n"
     ]
    },
    {
     "data": {
      "text/plain": [
       "{'ACTAT'}"
      ]
     },
     "execution_count": 4,
     "metadata": {},
     "output_type": "execute_result"
    }
   ],
   "source": [
    "frequent_words(\"ACAACTATGCATACTATCGGGAACTATCCT\",5)"
   ]
  },
  {
   "cell_type": "markdown",
   "id": "e1a7d77c",
   "metadata": {},
   "source": [
    "<ul>\n",
    "    <li>Although <font style=\"font-family:courier;\">frequent_words</font> finds most frequent <i>k</i>-mers, it is not very efficient.</li>\n",
    "    <li><font style=\"font-family:courier;\">frequent_words</font> calls <font style=\"font-family:courier;\">pattern_count</font> |<i>Text</i>|-<i>k</i>+1 times.</li>\n",
    "    <li>Each call to <font style=\"font-family:courier;\">pattern_count</font> requires |<i>Text</i>|-<i>k</i>+1 checks with each of the <i>k</i>-mers in <i>Text</i>, with each check further requiring <i>k</i> comparisons between each character.</li>\n",
    "    <li>Thus, the overall number of steps is (|<i>Text</i>|-<i>k</i>+1)<span>&#183;</span>(|<i>Text</i>|-<i>k</i>+1)<span>&#183;</span><i>k</i>.</li>\n",
    "    <li>To simplify things, computer scientists say that the runtime of <font style=\"font-family:courier;\">frequent_words</font> has an upper bound of |<i>Text</i>|<sup>2</sup><span>&#183;</span><i>k</i>, and refer to the <b>complexity</b> of the algorithm as O(|<i>Text</i>|<sup>2</sup><span>&#183;</span><i>k</i>).</li>\n",
    "</ul>"
   ]
  },
  {
   "cell_type": "markdown",
   "id": "574fcdb5",
   "metadata": {},
   "source": [
    "<hr>\n",
    "<h4>Big-O Notation</h4>\n",
    "\n",
    "<ul>\n",
    "    <li>Computer scientists typically measure an algorithm’s efficiency in terms of its <b>worstcase running time</b>, which is the largest amount of time an algorithm can take for the most difficult input of a given size.</li>\n",
    "    <li>The advantage to considering the worst-case running time is that we are guaranteed that our algorithm will never behave worse than our worst-case estimate.</li>\n",
    "    <li><b>Big-O notation</b> compactly describes the running time of an algorithm.</li>\n",
    "    <li>For example, if your algorithm for sorting an array of <i>n</i> numbers takes roughly <i>n</i><sup>2</sup> operations for the most difficult dataset, then we say that the running time of your algorithm is O(<i>n</i><sup>2</sup>).</li>\n",
    "</ul>\n",
    "<hr>\n"
   ]
  },
  {
   "cell_type": "markdown",
   "id": "44558ca3",
   "metadata": {},
   "source": [
    "<ul>\n",
    "    <li>Experiments have revealed that bacterial <i>DnaA</i> boxes are usually nine nucleotides long.</li>\n",
    "    <li>Thus, we look for the most frequent 9-mers in the <i>oriC</i> of <i>Vibrio cholerae</i>.</li>\n",
    "</ul>"
   ]
  },
  {
   "cell_type": "code",
   "execution_count": 5,
   "id": "8efa71d0",
   "metadata": {},
   "outputs": [
    {
     "name": "stdout",
     "output_type": "stream",
     "text": [
      "The most frequent 9-mer(s) occur(s) 3 times\n"
     ]
    },
    {
     "data": {
      "text/plain": [
       "{'ATGATCAAG', 'CTCTTGATC', 'CTTGATCAT', 'TCTTGATCA'}"
      ]
     },
     "execution_count": 5,
     "metadata": {},
     "output_type": "execute_result"
    }
   ],
   "source": [
    "ori_c = \"atcaatgatcaacgtaagcttctaagcatgatcaaggtgctcacacagtttatccacaacctgagtggatgacatcaagataggtcgttgtatctccttcctctcgtactctcatgaccacggaaagatgatcaagagaggatgatttcttggccatatcgcaatgaatacttgtgacttgtgcttccaattgacatcttcagcgccatattgcgctggccaaggtgacggagcgggattacgaaagcatgatcatggctgttgttctgtttatcttgttttgactgagacttgttaggatagacggtttttcatcactgactagccaaagccttactctgcctgacatcgaccgtaaattgataatgaatttacatgcttccgcgacgatttacctcttgatcatcgatccgattgaagatcttcaattgttaattctcttgcctcgactcatagccatgatgagctcttgatcatgtttccttaaccctctattttttacggaagaatgatcaagctgctgctcttgatcatcgtttc\"\n",
    "ori_c = ori_c.upper()\n",
    "frequent_words(ori_c,9)"
   ]
  },
  {
   "cell_type": "markdown",
   "id": "232151b5",
   "metadata": {},
   "source": [
    "<h2>Some Hidden Messages are More Surprising than Others</h2>"
   ]
  },
  {
   "cell_type": "markdown",
   "id": "eeb21247",
   "metadata": {},
   "source": [
    "<ul>\n",
    "    <li>Each nucleotide in DNA has a complement. A and T are complements of each other, as are G and C.</li>\n",
    "    <li>The <b>reverse complement</b> of a DNA string is the string formed by taking the complement of each nucleotide in the string and then reversing the resulting string.</li>\n",
    "    <li>This reversal is necessary to account for the directionality (5' to 3') of DNA.</li>\n",
    "</ul>"
   ]
  },
  {
   "cell_type": "code",
   "execution_count": 6,
   "id": "f235260d",
   "metadata": {},
   "outputs": [],
   "source": [
    "complement = {\"A\":\"T\",\"T\":\"A\",\"G\":\"C\",\"C\":\"G\"}\n",
    "\n",
    "def rev_comp(dna_string):\n",
    "    comp_dna = []\n",
    "    for nucleotide in dna_string.upper():\n",
    "        comp_dna.append(complement[nucleotide])\n",
    "    return \"\".join(comp_dna)[::-1]"
   ]
  },
  {
   "cell_type": "code",
   "execution_count": 7,
   "id": "112c18fb",
   "metadata": {},
   "outputs": [
    {
     "data": {
      "text/plain": [
       "'CTTGATCAT'"
      ]
     },
     "execution_count": 7,
     "metadata": {},
     "output_type": "execute_result"
    }
   ],
   "source": [
    "rev_comp(\"atgatcaag\")"
   ]
  },
  {
   "cell_type": "code",
   "execution_count": 8,
   "id": "f64ed01e",
   "metadata": {},
   "outputs": [
    {
     "data": {
      "text/plain": [
       "'ATGATCAAG'"
      ]
     },
     "execution_count": 8,
     "metadata": {},
     "output_type": "execute_result"
    }
   ],
   "source": [
    "rev_comp(\"cttgatcat\")"
   ]
  },
  {
   "cell_type": "markdown",
   "id": "74bac736",
   "metadata": {},
   "source": [
    "<ul>\n",
    "    <li>Interestingly, among the four most frequent 9-mers in the <i>oriC</i> region of <i>Vibrio cholerae</i>, ATGATCAAG and CTTGATCAT are reverse complements of each other.</li>\n",
    "    <li>This observation leads us to the working hypothesis that ATGATCAAG and its reverse complement CTTGATCAT indeed represent <i>DnaA</i> boxes in <i>Vibrio cholerae</i>.\n",
    "    <li>However, before concluding that we have found the <i>DnaA</i> box of <i>Vibrio cholerae</i>, the careful bioinformatician should check if there are other short regions in the <i>Vibrio cholerae</i> genome exhibiting multiple occurrences of ATGATCAAG (or CTTGATCAT).</li>\n",
    "    <li>To do so, we must solve the Pattern Matching Problem, which attempts to find all occurrences of a pattern in a string.</li> \n",
    "</ul>"
   ]
  },
  {
   "cell_type": "code",
   "execution_count": 9,
   "id": "c65a446e",
   "metadata": {},
   "outputs": [],
   "source": [
    "def pattern_match(genome, pattern):\n",
    "    locations = []\n",
    "    for i in range(0,len(genome)-len(pattern)+1):\n",
    "        if genome[i:i+len(pattern)].upper() == pattern.upper():\n",
    "            locations.append(i+1)\n",
    "    return locations"
   ]
  },
  {
   "cell_type": "code",
   "execution_count": 10,
   "id": "e80a9f80",
   "metadata": {},
   "outputs": [
    {
     "data": {
      "text/plain": [
       "[28, 128, 509]"
      ]
     },
     "execution_count": 10,
     "metadata": {},
     "output_type": "execute_result"
    }
   ],
   "source": [
    "pattern_match(ori_c, \"ATGATCAAG\")"
   ]
  },
  {
   "cell_type": "markdown",
   "id": "9134de7a",
   "metadata": {},
   "source": [
    "<ul>\n",
    "    <li>After solving the Pattern Matching Problem, we discover that ATGATCAAG appears 17 times in the following positions of the <i>Vibrio cholerae</i> genome: 116556, 149355, <b>151913, 152013, 152394</b>, 186189, 194276, 200076, 224527, 307692, 479770, 610980, 653338, 679985, 768828, 878903, 985368.</li>\n",
    "    <li>With the exception of the three occurrences of ATGATCAAG in <i>oriC</i> at starting positions 151913, 152013, and 152394, no other instances of ATGATCAAG form <b>clumps</b>, i.e., appear close to each other in a small region of the genome. This is found to be true even for CTTGATCAT.</li>\n",
    "    <li>We should not jump to the conclusion that ATGATCAAG / CTTGATCAT is a hidden message for all bacterial genomes without first checking whether it even appears in known <i>oriC</i> regions from other bacteria. Maybe different bacteria have different\n",
    "        <i>DnaA</i> boxes.</li>\n",
    "</ul>"
   ]
  },
  {
   "cell_type": "markdown",
   "id": "a13d7168",
   "metadata": {},
   "source": [
    "<h2>An Explosion of Hidden Messages</h2>"
   ]
  },
  {
   "cell_type": "markdown",
   "id": "e9263f58",
   "metadata": {},
   "source": [
    "<h3>Clump Finding Problem</h3>\n",
    "\n",
    "<ul>\n",
    "    <li>Now imagine that you are trying to find <i>oriC</i> in a newly sequenced bacterial genome.</li>\n",
    "    <li>Searching for “clumps” of ATGATCAAG / CTTGATCAT is unlikely to help, since this new genome may use a completely different hidden message!</li>\n",
    "    <li>So, instead of finding clumps of a specific <i>k</i>-mer, let’s try to find every <i>k</i>-mer that forms a clump in the genome.</li>\n",
    "    <li>Our plan is to slide a window of fixed length <i>L</i> along the genome, looking for a region where a <i>k</i>-mer appears several times in short succession. The parameter value <i>L</i> = 500 reflects the typical length of <i>oriC</i> in bacterial genomes.</li>\n",
    "    <li>Given integers <i>L</i> and <i>t</i>, a <i>k</i>-mer <i>Pattern</i> forms an <b>(<i>L</i>, <i>t</i>)-clump</b> inside a (longer) string <i>Genome</i> if there is an interval of <i>Genome</i> of length <i>L</i> in which this <i>k</i>-mer appears at least <i>t</i> times.</li>\n",
    "    <li>From our previous examples, ATGATCAAG forms a (500, 3)-clump in the <i>Vibrio cholerae</i> genome</li>\n",
    "</ul>"
   ]
  },
  {
   "cell_type": "code",
   "execution_count": 11,
   "id": "1a0afcf3",
   "metadata": {},
   "outputs": [],
   "source": [
    "def clump_find(genome, k, L, t):\n",
    "    clumps = []\n",
    "    \n",
    "    for i in range(0,len(genome)-L+1):\n",
    "        window = genome[i:i+L]\n",
    "        \n",
    "        count = []\n",
    "    \n",
    "        for i in range(0,len(window)-k+1):\n",
    "            pattern = window[i:i+k]\n",
    "            count.append(pattern_count(window,pattern))\n",
    "        \n",
    "        for i in range(0,len(window)-k+1):\n",
    "            if count[i] >= t:\n",
    "                clumps.append(window[i:i+k])\n",
    "        \n",
    "    return set(clumps)"
   ]
  },
  {
   "cell_type": "code",
   "execution_count": 12,
   "id": "45c226f1",
   "metadata": {},
   "outputs": [
    {
     "data": {
      "text/plain": [
       "{'ATGATCAAG', 'CTCTTGATC', 'CTTGATCAT', 'TCTTGATCA'}"
      ]
     },
     "execution_count": 12,
     "metadata": {},
     "output_type": "execute_result"
    }
   ],
   "source": [
    "clump_find(ori_c, 9, 500, 3)"
   ]
  },
  {
   "cell_type": "markdown",
   "id": "6e96b3bd",
   "metadata": {},
   "source": [
    "<ul>\n",
    "    <li>When we look for clumps in the genome of <i>Escherichia coli</i>, we find hundreds of different 9-mers forming (500, 3)-clumps, and it is absolutely unclear which of these 9-mers might represent a <i>DnaA</i> box in the bacterium’s <i>oriC</i> region.</li>\n",
    "    <li>Thus, we should try to learn more about the details of replication in the hope that they provide new algorithmic insights into finding <i>oriC</i>.</li>\n",
    "</ul>"
   ]
  },
  {
   "cell_type": "markdown",
   "id": "cf919f30",
   "metadata": {},
   "source": [
    "<h2>Asymmetry of Replication</h2>"
   ]
  },
  {
   "cell_type": "markdown",
   "id": "cb3f9af0",
   "metadata": {},
   "source": [
    "<ul>\n",
    "    <li>DNA polymerases are unidirectional. They can only traverse a template strand of DNA in the 3' to 5' direction.</li>\n",
    "    <li>There are 4 different half-strands connecting the origin of replication to the replication terminus (<i>terC</i>).</li>\n",
    "    <li>2 of these half-strands are <b>forward half-strands</b>, in the 5' to 3' direction. The other 2 are <b>reverse half-strands</b>, in the 3' to 5' direction.</li>"
   ]
  },
  {
   "cell_type": "markdown",
   "id": "43562cb5",
   "metadata": {},
   "source": [
    "<div>\n",
    "<img src=\"Screenshot%202022-12-03%20132110.png\" width=\"500\"/>\n",
    "</div>"
   ]
  },
  {
   "cell_type": "markdown",
   "id": "a902e143",
   "metadata": {},
   "source": [
    "<ul>\n",
    "    <li>This results in asymmetric replication. The reverse half-strands are replicated continuously (<b>leading</b>) while the forward half-strands are replicated discontinuously (<b>lagging</b>).</li>\n",
    "    <li>Since the replication of a reverse half-strand proceeds quickly, it lives double-stranded for most of its life. Conversely, a forward half-strand spends a much larger amount of its life single-stranded, waiting to be used as a template for replication.</li>\n",
    "    <li>This discrepancy between the forward and reverse half-strands is important because single-stranded DNA has a much higher mutation rate than double-stranded DNA.</li>\n",
    "    <li>In particular, if one of the four nucleotides in single-stranded DNA has a greater tendency than other nucleotides to mutate in single-stranded DNA, then we should observe a shortage of this nucleotide on the forward half-strand.</li>\n",
    "    <li>From experimental data, the frequencies of A and T are practically identical on the two half-strands, C is more frequent on the reverse half-strand than on the forward half-strand, and its complementary nucleotide G is less frequent on the reverse half-strand.</li>\n",
    "    <li>It turns out that we observe these discrepancies because cytosine (C) has a tendency to mutate into thymine (T) through a process called <b>deamination</b>.</li>\n",
    "    <li>Deamination rates rise 100-fold when DNA is single-stranded, which leads to a decrease in cytosine on the forward half-strand, thus forming mismatched base pairs T-G.</li>\n",
    "    <li>These mismatched pairs can further mutate into T-A pairs when the bond is repaired in the next round of replication, which accounts for the observed decrease in guanine (G) on the reverse half-strand.</li>\n",
    "</ul>"
   ]
  },
  {
   "cell_type": "markdown",
   "id": "bd7b711c",
   "metadata": {},
   "source": [
    "<h3>Skew diagram</h3>"
   ]
  },
  {
   "cell_type": "markdown",
   "id": "95d218fe",
   "metadata": {},
   "source": [
    "<ul>\n",
    "    <li>The difference between the total amount of guanine and the total amount of cytosine is negative on the reverse half-strand and positive on the forward half-strand.</li>\n",
    "    <li>Thus, our idea is to traverse the genome, keeping a running total of the difference between the counts of G and C.</li> \n",
    "    <li>If this difference starts <u>increasing</u>, then we guess that we are on the forward half-strand; on the other hand, if this difference starts <u>decreasing</u>, then we guess that we are on the reverse half-strand.</li>\n",
    "</ul>"
   ]
  },
  {
   "cell_type": "markdown",
   "id": "74c41afd",
   "metadata": {},
   "source": [
    "<div>\n",
    "<img src=\"Screenshot 2022-12-03 134242.png\" width=\"500\"/>\n",
    "</div>"
   ]
  },
  {
   "cell_type": "markdown",
   "id": "4c20664e",
   "metadata": {},
   "source": [
    "<ul>\n",
    "    <li>We define Skew<sub>i</sub>(<i>Genome</i>) as the difference between the total number of occurrences of G and the total number of occurrences of C in the first i nucleotides of <i>Genome</i>.</li>\n",
    "    <li>The <b>skew diagram</b> is defined by plotting Skew<sub>i</sub>(<i>Genome</i>) as i ranges from 0 to |<i>Genome</i>|, where Skew<sub>0</sub>(<i>Genome</i>) is set equal to zero.</li>\n",
    "</ul>"
   ]
  },
  {
   "cell_type": "markdown",
   "id": "79b16a23",
   "metadata": {},
   "source": [
    "<div>\n",
    "<img src=\"Screenshot 2022-12-03 135025.png\" width=\"500\"/>\n",
    "</div>"
   ]
  },
  {
   "cell_type": "markdown",
   "id": "e1f9d97e",
   "metadata": {},
   "source": [
    "<ul>\n",
    "    <li>It turns out that the skew diagram for many bacterial genomes has a characteristic shape.</li>\n",
    "    <li>Let’s follow the 5' to 3' direction of DNA and walk along the chromosome from <i>terC</i> to <i>oriC</i> (along a reverse half-strand), then continue on from <i>oriC</i> to <i>terC</i> (along a forward half-strand).</li>\n",
    "    <li>The skew decreases along the reverse half-strand and increases along the forward half-strand.</li>\n",
    "    <li>Thus, the skew should achieve a minimum at the position where the reverse half-strand ends and the forward half-strand begins, which is exactly the location of <i>oriC</i>!</li>\n",
    "    <li>We have just developed an algorithm for locating <i>oriC</i>: it should be found where the skew attains a minimum.</li>\n",
    "</ul>"
   ]
  },
  {
   "cell_type": "markdown",
   "id": "79fbe325",
   "metadata": {},
   "source": [
    "<div>\n",
    "<img src=\"Screenshot 2022-12-03 135653.png\" width=\"500\"/>\n",
    "</div>"
   ]
  },
  {
   "cell_type": "markdown",
   "id": "5469d189",
   "metadata": {},
   "source": [
    "<h3>Minimum Skew Problem</h3>"
   ]
  },
  {
   "cell_type": "code",
   "execution_count": 13,
   "id": "b877bef2",
   "metadata": {},
   "outputs": [],
   "source": [
    "def min_skew(genome):\n",
    "    skew = 0\n",
    "    index = 0\n",
    "    min_skew = 0\n",
    "    min_skew_index = 0\n",
    "    for nucleotide in genome.upper():\n",
    "        if nucleotide == \"G\":\n",
    "            skew += 1\n",
    "        elif nucleotide == \"C\":\n",
    "            skew -= 1\n",
    "        else:\n",
    "            skew += 0\n",
    "        index += 1\n",
    "        if skew < min_skew:\n",
    "            min_skew = skew\n",
    "            min_skew_index = index\n",
    "    return min_skew_index"
   ]
  },
  {
   "cell_type": "code",
   "execution_count": 14,
   "id": "0fccab95",
   "metadata": {},
   "outputs": [
    {
     "data": {
      "text/plain": [
       "21"
      ]
     },
     "execution_count": 14,
     "metadata": {},
     "output_type": "execute_result"
    }
   ],
   "source": [
    "sample = \"CATGGGCATCGGCCATACGCC\"\n",
    "min_skew(sample)"
   ]
  },
  {
   "cell_type": "markdown",
   "id": "60fbe0ec",
   "metadata": {},
   "source": [
    "<ul>\n",
    "    <li>Solving the Minimum Skew Problem now provides us with an approximate location of <i>oriC</i> at position 3923620 in <i>E. coli</i>.</li>\n",
    "    <li>Solving the Frequent Words Problem in a window of length 500 starting at position 3923620 reveals no 9-mers (along with their reverse complements) that appear three or more times! </li>\n",
    "    <li>Even if we have located <i>oriC</i> in <i>E. coli</i>, it appears that we still have not found the <i>DnaA</i> boxes that jump-start replication in this bacterium.</li>\n",
    "</ul>"
   ]
  },
  {
   "cell_type": "markdown",
   "id": "c58b77c9",
   "metadata": {},
   "source": [
    "<h2>Some Hidden Messages are More Elusive than Others</h2>"
   ]
  },
  {
   "cell_type": "markdown",
   "id": "22aec000",
   "metadata": {},
   "source": [
    "<ul>\n",
    "    <li>Close examination of the <i>oriC</i> of <i>Vibrio cholerae</i> reveals that in addition to the three occurrences of ATGATCAAG and three occurrences of its reverse complement CTTGATCAT, the region contains additional occurrences of ATGATCAA<b>C</b> and C<b>A</b>TGATCAT, which differ from ATGATCAAG and CTTGATCAT in only a single nucleotide.</li>\n",
    "    <li>The discovery of these approximate 9-mers makes sense biologically, since <i>DnaA</i> can bind not only to “perfect” <i>DnaA</i> boxes but to their slight variations as well.</li>\n",
    "    <li>The number of <b>mismatches</b> between two strings of equal length is called the <b>Hamming distance</b> between these strings.</li>\n",
    "</ul>"
   ]
  },
  {
   "cell_type": "code",
   "execution_count": 15,
   "id": "95d704fb",
   "metadata": {},
   "outputs": [],
   "source": [
    "def hamming(p, q):\n",
    "    d = 0\n",
    "    for i in range(len(p)):\n",
    "        if p[i] != q[i]:\n",
    "            d += 1\n",
    "    return d"
   ]
  },
  {
   "cell_type": "code",
   "execution_count": 16,
   "id": "8bf5b43a",
   "metadata": {},
   "outputs": [
    {
     "data": {
      "text/plain": [
       "1"
      ]
     },
     "execution_count": 16,
     "metadata": {},
     "output_type": "execute_result"
    }
   ],
   "source": [
    "hamming(\"ATGATCAAG\",\"ATGATCAAC\")"
   ]
  },
  {
   "cell_type": "markdown",
   "id": "e67ce5f9",
   "metadata": {},
   "source": [
    "<ul>\n",
    "    <li>We say that a <i>k</i>-mer <i>Pattern</i> appears as a substring of <i>Text</i> with at most <i>d</i> mismatches if there is some <i>k</i>-mer substring <i>Pattern'</i> of <i>Text</i> having <i>d</i> or fewer mismatches with <i>Patern</i>.</li>\n",
    "    <li>In other words, there must exist a <i>Pattern'</i> such that the Hamming distance of <i>Pattern</i> and <i>Pattern'</i> is lesser than or equal to <i>d</i>.</li>\n",
    "</ul>"
   ]
  },
  {
   "cell_type": "markdown",
   "id": "fb546cca",
   "metadata": {},
   "source": [
    "<h3>Approximate Pattern Matching Problem</h3>"
   ]
  },
  {
   "cell_type": "code",
   "execution_count": 17,
   "id": "fa9aea38",
   "metadata": {},
   "outputs": [],
   "source": [
    "def approx_match(text, pattern, d):\n",
    "    locations = []\n",
    "    for i in range(0,len(text)-len(pattern)+1):\n",
    "        if hamming(text[i:i+len(pattern)].upper(), pattern.upper()) <= d:\n",
    "            locations.append(i+1)\n",
    "            print(text[i:i+len(pattern)])\n",
    "    return locations"
   ]
  },
  {
   "cell_type": "code",
   "execution_count": 18,
   "id": "a5cb1986",
   "metadata": {},
   "outputs": [
    {
     "name": "stdout",
     "output_type": "stream",
     "text": [
      "ATGATCAAC\n",
      "ATGATCAAG\n",
      "ATGATCAAG\n",
      "ATGATCATG\n",
      "ATGATCAAG\n"
     ]
    },
    {
     "data": {
      "text/plain": [
       "[5, 28, 128, 249, 509]"
      ]
     },
     "execution_count": 18,
     "metadata": {},
     "output_type": "execute_result"
    }
   ],
   "source": [
    "approx_match(ori_c,\"ATGATCAAG\",1)"
   ]
  },
  {
   "cell_type": "markdown",
   "id": "abdbf3a4",
   "metadata": {},
   "source": [
    "<ul>\n",
    "    <li>Our goal now is to modify our previous algorithm for the Frequent Words Problem in order to find <i>DnaA</i> boxes by identifying frequent <i>k</i>-mers, possibly with mismatches.</li>\n",
    "    <li>Given strings <i>Text</i> and <i>Pattern</i> as well as an integer <i>d</i>, we define COUNT<sub>d</sub>(<i>Text</i>, <i>Pattern</i>) as the number of occurrences of <i>Pattern</i> in <i>Text</i> with at most <i>d</i> mismatches.</li>\n",
    "</ul>"
   ]
  },
  {
   "cell_type": "markdown",
   "id": "a13af670",
   "metadata": {},
   "source": [
    "<h3>Approximate Pattern Counting Problem</h3>"
   ]
  },
  {
   "cell_type": "code",
   "execution_count": 19,
   "id": "a8f150e0",
   "metadata": {},
   "outputs": [],
   "source": [
    "def approx_count(text, pattern, d):\n",
    "    count = 0\n",
    "    for i in range(0,len(text)-len(pattern)+1):\n",
    "        if hamming(text[i:i+len(pattern)].upper(), pattern.upper()) <= d:\n",
    "            count += 1\n",
    "    return count"
   ]
  },
  {
   "cell_type": "code",
   "execution_count": 20,
   "id": "0524421d",
   "metadata": {},
   "outputs": [
    {
     "data": {
      "text/plain": [
       "4"
      ]
     },
     "execution_count": 20,
     "metadata": {},
     "output_type": "execute_result"
    }
   ],
   "source": [
    "approx_count(\"AACAAGCATAAACATTAAAGAG\",\"AAAAA\", 1)"
   ]
  },
  {
   "cell_type": "markdown",
   "id": "3bcd5f8e",
   "metadata": {},
   "source": [
    "<ul>\n",
    "    <li>A most frequent <i>k</i>-mer with up to <i>d</i> mismatches in <i>Text</i> is simply a string <i>Pattern</i> maximizing COUNT<sub>d</sub>(<i>Text</i>, <i>Pattern</i>) among all <i>k</i>-mers.</li>\n",
    "</ul>"
   ]
  },
  {
   "cell_type": "markdown",
   "id": "4049bbe6",
   "metadata": {},
   "source": [
    "<h3>Frequent Words with Mismatches Problem</h3>"
   ]
  },
  {
   "cell_type": "code",
   "execution_count": 21,
   "id": "39180714",
   "metadata": {},
   "outputs": [],
   "source": [
    "def generate_kmers(k):\n",
    "    \n",
    "    bases = [\"A\", \"T\", \"G\", \"C\"]\n",
    "\n",
    "    last = bases\n",
    "    current = []\n",
    "    for i in range(k-1):\n",
    "        for b in bases:\n",
    "            for l in last:\n",
    "                current.append(l+b)\n",
    "        last = current\n",
    "        current= []\n",
    "        last.sort()\n",
    "        \n",
    "    return last"
   ]
  },
  {
   "cell_type": "code",
   "execution_count": 22,
   "id": "20b79e58",
   "metadata": {},
   "outputs": [],
   "source": [
    "def approx_frequent_words(text, k, d):\n",
    "    frequent_patterns = []\n",
    "    count = []\n",
    "    \n",
    "    k_mers = generate_kmers(k)\n",
    "    \n",
    "    for pattern in k_mers:\n",
    "        count.append(approx_count(text, pattern, d))\n",
    "        \n",
    "    max_count = max(count)\n",
    "    print(f\"The most frequent {k}-mer(s) with up to {d} mismatch(es) occur(s) {max_count} times\")\n",
    "    \n",
    "    for i in range(len(k_mers)):\n",
    "        if count[i] == max_count:\n",
    "            frequent_patterns.append(k_mers[i])\n",
    "            \n",
    "    return set(frequent_patterns)"
   ]
  },
  {
   "cell_type": "code",
   "execution_count": 23,
   "id": "86825f9f",
   "metadata": {},
   "outputs": [
    {
     "name": "stdout",
     "output_type": "stream",
     "text": [
      "The most frequent 5-mer(s) with up to 1 mismatch(es) occur(s) 4 times\n"
     ]
    },
    {
     "data": {
      "text/plain": [
       "{'AAAAA'}"
      ]
     },
     "execution_count": 23,
     "metadata": {},
     "output_type": "execute_result"
    }
   ],
   "source": [
    "approx_frequent_words(\"AACAAGCATAAACATTAAAGAG\", 5, 1)"
   ]
  },
  {
   "cell_type": "markdown",
   "id": "a50ef573",
   "metadata": {},
   "source": [
    "<ul>\n",
    "    <li>We now redefine the Frequent Words Problem to account for both mismatches and reverse complements.</li>\n",
    "</ul>"
   ]
  },
  {
   "cell_type": "markdown",
   "id": "e032b457",
   "metadata": {},
   "source": [
    "<h3>Frequent Words with Mismatches and Reverse Complements Problem</h3>"
   ]
  },
  {
   "cell_type": "code",
   "execution_count": 24,
   "id": "8d86994f",
   "metadata": {},
   "outputs": [],
   "source": [
    "def approx_frequent_words_with_rev(text, k, d):\n",
    "    frequent_patterns = []\n",
    "    count = []\n",
    "    \n",
    "    k_mers = generate_kmers(k)\n",
    "    \n",
    "    for pattern in k_mers:\n",
    "        count.append(approx_count(text, pattern, d) + approx_count(text, rev_comp(pattern), d))\n",
    "        \n",
    "    max_count = max(count)\n",
    "    print(f\"The most frequent {k}-mer(s) and its/their reverse complements with up to {d} mismatch(es) occur(s) {max_count} times\")\n",
    "    \n",
    "    for i in range(len(k_mers)):\n",
    "        if count[i] == max_count:\n",
    "            frequent_patterns.append(k_mers[i])\n",
    "            \n",
    "    return set(frequent_patterns)"
   ]
  },
  {
   "cell_type": "code",
   "execution_count": 25,
   "id": "383f371e",
   "metadata": {},
   "outputs": [
    {
     "name": "stdout",
     "output_type": "stream",
     "text": [
      "The most frequent 5-mer(s) and its/their reverse complements with up to 1 mismatch(es) occur(s) 4 times\n"
     ]
    },
    {
     "data": {
      "text/plain": [
       "{'AAAAA', 'CTTAA', 'TTAAA', 'TTAAG', 'TTTAA', 'TTTTT'}"
      ]
     },
     "execution_count": 25,
     "metadata": {},
     "output_type": "execute_result"
    }
   ],
   "source": [
    "approx_frequent_words_with_rev(\"AACAAGCATAAACATTAAAGAG\", 5, 1)"
   ]
  },
  {
   "cell_type": "markdown",
   "id": "7e3e5767",
   "metadata": {},
   "source": [
    "<h2>A Final Attempt at Finding <i>DnaA</i> Boxes in <i>E. coli</i></h2>"
   ]
  },
  {
   "cell_type": "markdown",
   "id": "7f64f1f4",
   "metadata": {},
   "source": [
    "<ul>\n",
    "    <li>We now make a final attempt to find <i>DnaA</i> boxes in <i>E. coli</i> by finding the most frequent 9-mers with mismatches and reverse complements in the region suggested by the minimum skew as <i>oriC</i>.</li>\n",
    "    <li>And bingo! The experimentally confirmed <i>DnaA</i> box in <i>E. coli</i> (TTATCCACA) is a most frequent 9-mer with 1 mismatch, along with its reverse complement TGTGGATAA.</li>\n",
    "</ul>"
   ]
  },
  {
   "cell_type": "markdown",
   "id": "9693a163",
   "metadata": {},
   "source": [
    "<hr>\n",
    "<h2>Improving Algorithmic Efficiency</h2>"
   ]
  },
  {
   "cell_type": "markdown",
   "id": "8500f5a6",
   "metadata": {},
   "source": [
    "<h3>Frequency array</h3>"
   ]
  },
  {
   "cell_type": "markdown",
   "id": "0896465b",
   "metadata": {},
   "source": [
    "<ul>\n",
    "    <li>We wish to find a more efficient method to compute the most frequent <i>k</i>-mers.</li>\n",
    "    <li>We aspire to slide a window down <i>Text</i> only once. As we slide this window, we will keep track of the number of times that each <i>k</i>-mer <i>Pattern</i> has already appeared in <i>Text</i>, updating these numbers as we proceed.</li>\n",
    "    <li>To achieve this goal, we will first order all 4<sup>k</sup> <i>k</i>-mers <b>lexicographically</b> (i.e., according to how they would appear in the dictionary) and then convert them into the 4<sup>k</sup> different integers between 0 and 4<sup>k</sup> - 1.</li>\n",
    "    <li>Given an integer <i>k</i>, we define the <b>frequency array</b> of a string <i>Text</i> as an array of length 4<sup>k</sup>, where the <i>i</i>-th element of the array holds the number of times that the <i>i</i>-th <i>k</i>-mer (in the lexicographic order) appears in <i>Text</i>.</li>\n",
    "    <li>For example, the frequency array of the string AAGCAAAGGTGGG is given by</li>\n",
    "</ul>"
   ]
  },
  {
   "cell_type": "markdown",
   "id": "eda4f1b5",
   "metadata": {},
   "source": [
    "<div>\n",
    "<img src=\"Screenshot%202022-12-04%20121617.png\" width=\"750\"/>\n",
    "</div>"
   ]
  },
  {
   "cell_type": "markdown",
   "id": "a29483fe",
   "metadata": {},
   "source": [
    "<ul>\n",
    "    <li>Our approach to convert lexicographically ordered <i>k</i>-mers to numbers is based on a simple observation. If we remove the final symbol from all lexicographically ordered <i>k</i>-mers, the resulting list is still ordered lexicographically.</li>\n",
    "    <li>In the case of DNA strings, every (<i>k</i> - 1)-mer in the resulting list is repeated four times.</li>\n",
    "    <li>For example, the number of 3-mers occurring before AGT is equal to four times the number of 2-mers occurring before AG plus the number of 1-mers occurring before T.</li>\n",
    "    <li>This leads to the design of a <b>recursive algorithm</b>, i.e., a program that calls itself.</li>\n",
    "</ul>"
   ]
  },
  {
   "cell_type": "markdown",
   "id": "a927a5e9",
   "metadata": {},
   "source": [
    "<div>\n",
    "<img src=\"Screenshot 2022-12-04 123052.png\" width=\"500\"/>\n",
    "</div>"
   ]
  },
  {
   "cell_type": "code",
   "execution_count": 26,
   "id": "829c8e0c",
   "metadata": {},
   "outputs": [],
   "source": [
    "symbol = {\"A\":0,\"C\":1,\"G\":2,\"T\":3}\n",
    "\n",
    "def pattern_to_number(pattern):\n",
    "    if len(pattern) == 0:\n",
    "        return 0\n",
    "    last_symbol = pattern[len(pattern)-1]\n",
    "    prefix = pattern[:len(pattern)-1]\n",
    "    return ((4*pattern_to_number(prefix)) + symbol[last_symbol])"
   ]
  },
  {
   "cell_type": "code",
   "execution_count": 27,
   "id": "af2174a3",
   "metadata": {},
   "outputs": [
    {
     "data": {
      "text/plain": [
       "11"
      ]
     },
     "execution_count": 27,
     "metadata": {},
     "output_type": "execute_result"
    }
   ],
   "source": [
    "pattern_to_number(\"AGT\")"
   ]
  },
  {
   "cell_type": "markdown",
   "id": "224300e4",
   "metadata": {},
   "source": [
    "<ul>\n",
    "    <li>In order to compute the inverse function, we notice that dividing <font style=\"font-family:courier;\">pattern_to_number(pattern)</font> by 4 gives the quotient as <font style=\"font-family:courier;\">pattern_to_number(prefix)</font> and remainder as <font style=\"font-family:courier;\">symbol[last_symbol]</font>.</li>\n",
    "</ul>"
   ]
  },
  {
   "cell_type": "code",
   "execution_count": 28,
   "id": "c42a5be7",
   "metadata": {},
   "outputs": [],
   "source": [
    "inv_symbol = {0:\"A\",1:\"C\",2:\"G\",3:\"T\"}\n",
    "\n",
    "def number_to_pattern(index, k):\n",
    "    if k == 1:\n",
    "        return inv_symbol[index]\n",
    "    prefix_index = index // 4\n",
    "    rem = index % 4\n",
    "    last_base = inv_symbol[rem]\n",
    "    prefix_pattern = number_to_pattern(prefix_index,k-1)\n",
    "    return \"\".join([prefix_pattern, last_base])"
   ]
  },
  {
   "cell_type": "code",
   "execution_count": 29,
   "id": "e1548bb3",
   "metadata": {},
   "outputs": [
    {
     "data": {
      "text/plain": [
       "'AGT'"
      ]
     },
     "execution_count": 29,
     "metadata": {},
     "output_type": "execute_result"
    }
   ],
   "source": [
    "number_to_pattern(11,3)"
   ]
  },
  {
   "cell_type": "markdown",
   "id": "2f8ed5ed",
   "metadata": {},
   "source": [
    "<ul><li>Now, we can generate our frequency array.</li></ul>"
   ]
  },
  {
   "cell_type": "code",
   "execution_count": 30,
   "id": "e1309282",
   "metadata": {},
   "outputs": [],
   "source": [
    "def freq_array(text, k):\n",
    "    \n",
    "    freq = [0 for i in range(4**k)]\n",
    "    \n",
    "    for i in range(len(text)-k+1):\n",
    "        pattern = text[i:i+k]\n",
    "        j = pattern_to_number(pattern)\n",
    "        freq[j] += 1\n",
    "    \n",
    "    return freq"
   ]
  },
  {
   "cell_type": "code",
   "execution_count": 31,
   "id": "2a20ce66",
   "metadata": {},
   "outputs": [
    {
     "data": {
      "text/plain": [
       "[3, 0, 2, 0, 1, 0, 0, 0, 0, 1, 3, 1, 0, 0, 1, 0]"
      ]
     },
     "execution_count": 31,
     "metadata": {},
     "output_type": "execute_result"
    }
   ],
   "source": [
    "freq_array(\"AAGCAAAGGTGGG\",2)"
   ]
  },
  {
   "cell_type": "code",
   "execution_count": 32,
   "id": "3f0f8d8e",
   "metadata": {},
   "outputs": [],
   "source": [
    "def faster_frequent_words(text, k):\n",
    "    frequent_patterns = []\n",
    "    array = freq_array(text, k)\n",
    "    max_freq = max(array)\n",
    "    for i in range(4**k):\n",
    "        if array[i] == max_freq:\n",
    "            pattern = number_to_pattern(i,k)\n",
    "            frequent_patterns.append(pattern)\n",
    "    return frequent_patterns"
   ]
  },
  {
   "cell_type": "code",
   "execution_count": 33,
   "id": "5871eb9d",
   "metadata": {},
   "outputs": [
    {
     "data": {
      "text/plain": [
       "['AA', 'GG']"
      ]
     },
     "execution_count": 33,
     "metadata": {},
     "output_type": "execute_result"
    }
   ],
   "source": [
    "faster_frequent_words(\"AAGCAAAGGTGGG\",2)"
   ]
  },
  {
   "cell_type": "markdown",
   "id": "f2c7b8f8",
   "metadata": {},
   "source": [
    "<ul>\n",
    "    <li>This can also be achieved by sorting the indices of all <i>k</i>-mers in <i>Text</i> and then counting the number of times each index occurs in this sorted array.</li>\n",
    "    <li>For example, for the sequence AAGCAAAGGTGGG:</li>\n",
    "</ul>"
   ]
  },
  {
   "cell_type": "markdown",
   "id": "abc41512",
   "metadata": {},
   "source": [
    "<div>\n",
    "<img src=\"Screenshot 2022-12-04 131608.png\" width=\"500\"/>\n",
    "</div>"
   ]
  },
  {
   "cell_type": "markdown",
   "id": "563468ad",
   "metadata": {},
   "source": [
    "<div>\n",
    "<img src=\"Screenshot 2022-12-04 131627.png\" width=\"500\"/>\n",
    "</div>"
   ]
  },
  {
   "cell_type": "code",
   "execution_count": 34,
   "id": "a79abd7d",
   "metadata": {},
   "outputs": [],
   "source": [
    "def frequent_words_sort(text, k):\n",
    "    \n",
    "    frequent_patterns = []\n",
    "    index = []\n",
    "    count = []\n",
    "    \n",
    "    for i in range(len(text)-k+1):\n",
    "        pattern = text[i:i+k]\n",
    "        index.append(pattern_to_number(pattern))\n",
    "        count.append(1)\n",
    "    \n",
    "    index.sort()\n",
    "    \n",
    "    for i in range(1, len(text)-k+1):\n",
    "        if index[i] == index[i-1]:\n",
    "            count[i] = count[i-1] + 1\n",
    "    \n",
    "    max_count = max(count)\n",
    "    \n",
    "    for i in range(len(text)-k+1):\n",
    "        if count[i] == max_count:\n",
    "            frequent_patterns.append(number_to_pattern(index[i],k))\n",
    "    \n",
    "    return frequent_patterns"
   ]
  },
  {
   "cell_type": "code",
   "execution_count": 35,
   "id": "856ef7e8",
   "metadata": {},
   "outputs": [
    {
     "data": {
      "text/plain": [
       "['AA', 'GG']"
      ]
     },
     "execution_count": 35,
     "metadata": {},
     "output_type": "execute_result"
    }
   ],
   "source": [
    "frequent_words_sort(\"AAGCAAAGGTGGG\",2)"
   ]
  },
  {
   "cell_type": "markdown",
   "id": "31498861",
   "metadata": {},
   "source": [
    "<h3><i>d</i>-neighborhood</h3>"
   ]
  },
  {
   "cell_type": "markdown",
   "id": "33b70176",
   "metadata": {},
   "source": [
    "<ul>\n",
    "    <li>To solve the Frequent Words with Mismatches Problem, we generated all the 4<sup>k</sup> possible <i>k</i>-mers and then calculated the number of times they appeared in <i>Text</i> with at most <i>d</i> mismatches.</li>\n",
    "    <li>This is wasteful as many of these <i>k</i>-mers, or their mismatches, might not appear in <i>Text</i> at all.</li>\n",
    "    <li>Thus, we should consider only those <i>k</i>-mers that are close to a <i>k</i>-mer in <i>Text</i>, i.e., those with Hamming distance at most <i>d</i> from this <i>k</i>-mer.</li> \n",
    "    <li>Given a <i>k</i>-mer <i>Pattern</i>, we define its <b><i>d</i>-neighborhood</b> as the set of all <i>k</i>-mers that are at a Hamming distance of at most <i>d</i> from <i>Pattern</i>.</li>\n",
    "    <li>The (<i>k</i> - 1)-mer obtained after removing the first symbol of <i>Pattern</i> is denoted by SUFFIX(<i>Pattern</i>).</li>\n",
    "    <li>For any <i>Pattern'</i> that is a member of the <i>d</i>-neighborhood of SUFFIX(<i>Pattern</i>), adding any symbol to the beginning of <i>Pattern'</i> produces a <i>k</i>-mer that is a member of the <i>d</i>-neighborhood of <i>Pattern</i>.</li>\n",
    "</ul>"
   ]
  },
  {
   "cell_type": "code",
   "execution_count": 36,
   "id": "e33977c5",
   "metadata": {},
   "outputs": [],
   "source": [
    "def neighbors(pattern, d):\n",
    "    \n",
    "    nucleotides = [\"A\",\"C\",\"G\",\"T\"]\n",
    "    \n",
    "    if d == 0:\n",
    "        return [pattern]\n",
    "    \n",
    "    if len(pattern) == 1:\n",
    "        return nucleotides\n",
    "    \n",
    "    neighborhood = []\n",
    "    first_symbol = pattern[0]\n",
    "    suffix = pattern[1:]\n",
    "    suffix_neighbors = neighbors(suffix, d)\n",
    "    for neighbor in suffix_neighbors:\n",
    "        if hamming(neighbor, suffix) < d:\n",
    "            for nucleotide in nucleotides:\n",
    "                neighborhood.append(\"\".join([nucleotide,neighbor]))\n",
    "        else:\n",
    "            neighborhood.append(\"\".join([first_symbol,neighbor]))\n",
    "        \n",
    "    return neighborhood"
   ]
  },
  {
   "cell_type": "code",
   "execution_count": 37,
   "id": "e58453f8",
   "metadata": {},
   "outputs": [
    {
     "data": {
      "text/plain": [
       "['ACA', 'ACC', 'AAG', 'ACG', 'CCG', 'GCG', 'TCG', 'AGG', 'ATG', 'ACT']"
      ]
     },
     "execution_count": 37,
     "metadata": {},
     "output_type": "execute_result"
    }
   ],
   "source": [
    "neighbors(\"ACG\",1)"
   ]
  },
  {
   "cell_type": "code",
   "execution_count": 38,
   "id": "53f11ee4",
   "metadata": {},
   "outputs": [],
   "source": [
    "def frequent_words_with_mimatches(text, k, d):\n",
    "    \n",
    "    text = text.upper()\n",
    "    \n",
    "    frequent_patterns = []\n",
    "    is_present = [0 for i in range(4**k)]\n",
    "    frequency_array = [0 for i in range(4**k)]\n",
    "    \n",
    "    for i in range(len(text)-k+1):\n",
    "        neighborhood = neighbors(text[i:i+k],d)\n",
    "        for pattern in neighborhood:\n",
    "            index = pattern_to_number(pattern)\n",
    "            is_present[index] = 1\n",
    "    \n",
    "    for i in range(4**k):\n",
    "        if is_present[i] == 1:\n",
    "            pattern = number_to_pattern(i,k)\n",
    "            frequency_array[i] = approx_count(text, pattern, d)\n",
    "    \n",
    "    max_count = max(frequency_array)\n",
    "    print(f\"The most frequent {k}-mer(s) with up to {d} mismatch(es) occur(s) {max_count} times\")\n",
    "    \n",
    "    for i in range(4**k):\n",
    "        if frequency_array[i] == max_count:\n",
    "            pattern = number_to_pattern(i,k)\n",
    "            frequent_patterns.append(pattern)\n",
    "    \n",
    "    return frequent_patterns"
   ]
  },
  {
   "cell_type": "code",
   "execution_count": 39,
   "id": "8663526c",
   "metadata": {},
   "outputs": [
    {
     "name": "stdout",
     "output_type": "stream",
     "text": [
      "The most frequent 5-mer(s) with up to 1 mismatch(es) occur(s) 4 times\n"
     ]
    },
    {
     "data": {
      "text/plain": [
       "['AAAAA']"
      ]
     },
     "execution_count": 39,
     "metadata": {},
     "output_type": "execute_result"
    }
   ],
   "source": [
    "frequent_words_with_mimatches(\"AACAAGCATAAACATTAAAGAG\", 5, 1)"
   ]
  },
  {
   "cell_type": "markdown",
   "id": "3b09c667",
   "metadata": {},
   "source": [
    "<ul><li>This can also be achieved by a sorting algorithm, as demonstrated earlier.</li></ul>"
   ]
  },
  {
   "cell_type": "code",
   "execution_count": 40,
   "id": "79e94d29",
   "metadata": {},
   "outputs": [],
   "source": [
    "def sorted_frequent_words_with_mismatches(text, k, d):\n",
    "    \n",
    "    frequent_patterns = []\n",
    "    neighborhood_array = []\n",
    "    \n",
    "    for i in range(len(text)-k+1):\n",
    "        for pattern in neighbors(text[i:i+k],d):\n",
    "            neighborhood_array.append(pattern)\n",
    "    \n",
    "    indices = []\n",
    "    count = []\n",
    "    for pattern in neighborhood_array:\n",
    "        indices.append(pattern_to_number(pattern))\n",
    "        count.append(1)\n",
    "    \n",
    "    indices.sort()\n",
    "    \n",
    "    for i in range(1, len(neighborhood_array)):\n",
    "        if indices[i] == indices[i-1]:\n",
    "            count[i] = count[i-1] + 1\n",
    "    \n",
    "    \n",
    "    max_count = max(count)\n",
    "    print(f\"The most frequent {k}-mer(s) with up to {d} mismatch(es) occur(s) {max_count} times\")\n",
    "    \n",
    "    for i in range(len(neighborhood_array)):\n",
    "        if count[i] == max_count:\n",
    "            pattern = number_to_pattern(indices[i],k)\n",
    "            frequent_patterns.append(pattern)\n",
    "        \n",
    "    return frequent_patterns"
   ]
  },
  {
   "cell_type": "code",
   "execution_count": 41,
   "id": "ebec04b9",
   "metadata": {},
   "outputs": [
    {
     "name": "stdout",
     "output_type": "stream",
     "text": [
      "The most frequent 5-mer(s) with up to 1 mismatch(es) occur(s) 4 times\n"
     ]
    },
    {
     "data": {
      "text/plain": [
       "['AAAAA']"
      ]
     },
     "execution_count": 41,
     "metadata": {},
     "output_type": "execute_result"
    }
   ],
   "source": [
    "sorted_frequent_words_with_mismatches(\"AACAAGCATAAACATTAAAGAG\", 5, 1)"
   ]
  },
  {
   "cell_type": "markdown",
   "id": "e9dc7f3e",
   "metadata": {},
   "source": [
    "<ul><li>If we account for reverse complements as well, the algorithm is slightly modified.</li></ul>"
   ]
  },
  {
   "cell_type": "code",
   "execution_count": 42,
   "id": "30c8f173",
   "metadata": {},
   "outputs": [],
   "source": [
    "def sorted_frequent_words_with_mismatches_and_revcomps(text, k, d):\n",
    "    frequent_patterns = []\n",
    "    neighborhood_array = []\n",
    "    \n",
    "    for i in range(len(text)-k+1):\n",
    "        for pattern in neighbors(text[i:i+k],d):\n",
    "            neighborhood_array.append(pattern)\n",
    "    \n",
    "    indices = []\n",
    "    count = []\n",
    "    updated_count = {}\n",
    "    for pattern in neighborhood_array:\n",
    "        indices.append(pattern_to_number(pattern))\n",
    "        count.append(1)\n",
    "    \n",
    "    indices.sort()\n",
    "    \n",
    "    for i in range(1, len(neighborhood_array)):\n",
    "        if indices[i] == indices[i-1]:\n",
    "            count[i] = count[i-1] + 1\n",
    "            updated_count[indices[i]] = count[i]\n",
    "    \n",
    "    new_count = {}\n",
    "    for index in updated_count.keys():\n",
    "        rev_comp_index = pattern_to_number(rev_comp(number_to_pattern(index,k)))\n",
    "        if rev_comp_index in updated_count.keys():\n",
    "            new_count[index] = updated_count[index] + updated_count[rev_comp_index]\n",
    "        else:\n",
    "            new_count[index] = updated_count[index]\n",
    "    \n",
    "    max_count = max([value for value in new_count.values()])\n",
    "    print(f\"The most frequent {k}-mer(s) and its/their reverse complements with up to {d} mismatch(es) occur(s) {max_count} times\")\n",
    "    \n",
    "    for index in new_count.keys():\n",
    "        if new_count[index] == max_count:\n",
    "            pattern = number_to_pattern(index,k)\n",
    "            frequent_patterns.append(pattern)\n",
    "    \n",
    "    for pattern in frequent_patterns:\n",
    "        if rev_comp(pattern) not in frequent_patterns:\n",
    "            frequent_patterns.append(rev_comp(pattern))\n",
    "        \n",
    "    return frequent_patterns"
   ]
  },
  {
   "cell_type": "code",
   "execution_count": 43,
   "id": "0b45c23e",
   "metadata": {},
   "outputs": [
    {
     "name": "stdout",
     "output_type": "stream",
     "text": [
      "The most frequent 5-mer(s) and its/their reverse complements with up to 1 mismatch(es) occur(s) 4 times\n"
     ]
    },
    {
     "data": {
      "text/plain": [
       "['AAAAA', 'CTTAA', 'TTAAA', 'TTAAG', 'TTTAA', 'TTTTT']"
      ]
     },
     "execution_count": 43,
     "metadata": {},
     "output_type": "execute_result"
    }
   ],
   "source": [
    "sorted_frequent_words_with_mismatches_and_revcomps(\"AACAAGCATAAACATTAAAGAG\", 5, 1)"
   ]
  },
  {
   "cell_type": "markdown",
   "id": "d18aa1b1",
   "metadata": {},
   "source": [
    "<hr>"
   ]
  },
  {
   "cell_type": "markdown",
   "id": "d4b5e288",
   "metadata": {},
   "source": [
    "<ul>\n",
    "    <li>We now have an efficient method of locating <i>oriC</i> in a bacterial genome and then identifying potential <i>DnaA</i> boxes.</li>\n",
    "    <li>First, we find the point of minumum skew in the genome.</li>\n",
    "    <li>Then, in a window 500 bases upstream and 500 bases downstream of this point, we look for the most frequent 9-mers, and their reverse complements, with at most 1 mismatch.</li>\n",
    "    <li>This gives us potential <i>DnaA</i> boxes.</li>\n",
    "</ul>"
   ]
  },
  {
   "cell_type": "code",
   "execution_count": 44,
   "id": "aea0970b",
   "metadata": {},
   "outputs": [],
   "source": [
    "def find_oriC_DnaA(genome):\n",
    "    \n",
    "    genome = genome.upper()\n",
    "    \n",
    "    approx_oriC = min_skew(genome)\n",
    "    \n",
    "    print(f\"Possible oriC found in the region around base {approx_oriC} in genome.\")\n",
    "    \n",
    "    window = genome[approx_oriC-500:approx_oriC+500]\n",
    "    \n",
    "    dna_a_boxes = sorted_frequent_words_with_mismatches_and_revcomps(window, 9, 1)\n",
    "    print(\"At this location, the possible DnaA boxes identified are:\")\n",
    "    for dna_a_box in dna_a_boxes:\n",
    "        print(dna_a_box)        "
   ]
  },
  {
   "cell_type": "markdown",
   "id": "973bf908",
   "metadata": {},
   "source": [
    "<hr>"
   ]
  },
  {
   "cell_type": "markdown",
   "id": "439bf054",
   "metadata": {},
   "source": [
    "<h2>Challenge Problem</h2>\n",
    "\n",
    "<ul>\n",
    "    <li>Let us test our algorithm using the genome of <i>Salmonella enterica</i>.</li>\n",
    "</ul>"
   ]
  },
  {
   "cell_type": "code",
   "execution_count": 45,
   "id": "d58c2d67",
   "metadata": {},
   "outputs": [
    {
     "name": "stdout",
     "output_type": "stream",
     "text": [
      "Possible oriC found in the region around base 4974766 in genome.\n",
      "The most frequent 9-mer(s) and its/their reverse complements with up to 1 mismatch(es) occur(s) 6 times\n",
      "At this location, the possible DnaA boxes identified are:\n",
      "TGTGGATAA\n",
      "TTATCCACA\n"
     ]
    }
   ],
   "source": [
    "with open(\"salmonella_enterica.txt\", mode = \"r\") as f:\n",
    "    sample_genome = f.read().replace(\"\\n\", \"\")\n",
    "    f.close()\n",
    "\n",
    "find_oriC_DnaA(sample_genome)"
   ]
  },
  {
   "cell_type": "markdown",
   "id": "a8b50e39",
   "metadata": {},
   "source": [
    "<ul>\n",
    "    <li>One of the <i>DnaA</i> boxes suggested by our algorithm (TTATCCACA) is identical to the box determined experimentally!</li>\n",
    "    <li>Source: <a href=\"url\">https://pubchem.ncbi.nlm.nih.gov/protein/A9MX77</a></li>\n",
    "    <li>Thus, our algorithm is an acceptable one.</li>\n",
    "    <li>However, there remain some open problems in <i>oriC</i> determination, such as the possibility of having multiple origins of replication. Computationally determining <i>oriC</i> in archaea and eukaryotes also remains a challenge.</li>\n",
    "</ul>\n",
    "<hr>"
   ]
  }
 ],
 "metadata": {
  "kernelspec": {
   "display_name": "Python 3",
   "language": "python",
   "name": "python3"
  },
  "language_info": {
   "codemirror_mode": {
    "name": "ipython",
    "version": 3
   },
   "file_extension": ".py",
   "mimetype": "text/x-python",
   "name": "python",
   "nbconvert_exporter": "python",
   "pygments_lexer": "ipython3",
   "version": "3.8.8"
  }
 },
 "nbformat": 4,
 "nbformat_minor": 5
}
